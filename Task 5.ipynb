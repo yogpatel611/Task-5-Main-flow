{
 "cells": [
  {
   "cell_type": "markdown",
   "id": "ddde5379",
   "metadata": {},
   "source": [
    "# Task 5"
   ]
  },
  {
   "cell_type": "raw",
   "id": "898ce14d",
   "metadata": {},
   "source": [
    "Feature Engineering and Selection\n",
    "Description:\n",
    "Engineer new features and select relevant features for model training.\n",
    "Responsibility:\n",
    "1. Generate meaningful features from existing data.\n",
    "2. Use techniques like PCA or feature importance to select the most important features.\n",
    "3. Optimize feature sets for improved model performance."
   ]
  },
  {
   "cell_type": "code",
   "execution_count": 6,
   "id": "23a417e9",
   "metadata": {},
   "outputs": [
    {
     "name": "stdout",
     "output_type": "stream",
     "text": [
      "   age  sex  cp  trestbps  chol  fbs  restecg  thalach  exang  oldpeak  slope  \\\n",
      "0   52    1   0       125   212    0        1      168      0      1.0      2   \n",
      "1   53    1   0       140   203    1        0      155      1      3.1      0   \n",
      "2   70    1   0       145   174    0        1      125      1      2.6      0   \n",
      "3   61    1   0       148   203    0        1      161      0      0.0      2   \n",
      "4   62    0   0       138   294    1        1      106      0      1.9      1   \n",
      "\n",
      "   ca  thal  target  \n",
      "0   2     3       0  \n",
      "1   0     3       0  \n",
      "2   0     3       0  \n",
      "3   1     3       0  \n",
      "4   3     2       0  \n",
      "<class 'pandas.core.frame.DataFrame'>\n",
      "RangeIndex: 1025 entries, 0 to 1024\n",
      "Data columns (total 14 columns):\n",
      " #   Column    Non-Null Count  Dtype  \n",
      "---  ------    --------------  -----  \n",
      " 0   age       1025 non-null   int64  \n",
      " 1   sex       1025 non-null   int64  \n",
      " 2   cp        1025 non-null   int64  \n",
      " 3   trestbps  1025 non-null   int64  \n",
      " 4   chol      1025 non-null   int64  \n",
      " 5   fbs       1025 non-null   int64  \n",
      " 6   restecg   1025 non-null   int64  \n",
      " 7   thalach   1025 non-null   int64  \n",
      " 8   exang     1025 non-null   int64  \n",
      " 9   oldpeak   1025 non-null   float64\n",
      " 10  slope     1025 non-null   int64  \n",
      " 11  ca        1025 non-null   int64  \n",
      " 12  thal      1025 non-null   int64  \n",
      " 13  target    1025 non-null   int64  \n",
      "dtypes: float64(1), int64(13)\n",
      "memory usage: 112.2 KB\n",
      "None\n",
      "               age          sex           cp     trestbps        chol  \\\n",
      "count  1025.000000  1025.000000  1025.000000  1025.000000  1025.00000   \n",
      "mean     54.434146     0.695610     0.942439   131.611707   246.00000   \n",
      "std       9.072290     0.460373     1.029641    17.516718    51.59251   \n",
      "min      29.000000     0.000000     0.000000    94.000000   126.00000   \n",
      "25%      48.000000     0.000000     0.000000   120.000000   211.00000   \n",
      "50%      56.000000     1.000000     1.000000   130.000000   240.00000   \n",
      "75%      61.000000     1.000000     2.000000   140.000000   275.00000   \n",
      "max      77.000000     1.000000     3.000000   200.000000   564.00000   \n",
      "\n",
      "               fbs      restecg      thalach        exang      oldpeak  \\\n",
      "count  1025.000000  1025.000000  1025.000000  1025.000000  1025.000000   \n",
      "mean      0.149268     0.529756   149.114146     0.336585     1.071512   \n",
      "std       0.356527     0.527878    23.005724     0.472772     1.175053   \n",
      "min       0.000000     0.000000    71.000000     0.000000     0.000000   \n",
      "25%       0.000000     0.000000   132.000000     0.000000     0.000000   \n",
      "50%       0.000000     1.000000   152.000000     0.000000     0.800000   \n",
      "75%       0.000000     1.000000   166.000000     1.000000     1.800000   \n",
      "max       1.000000     2.000000   202.000000     1.000000     6.200000   \n",
      "\n",
      "             slope           ca         thal       target  \n",
      "count  1025.000000  1025.000000  1025.000000  1025.000000  \n",
      "mean      1.385366     0.754146     2.323902     0.513171  \n",
      "std       0.617755     1.030798     0.620660     0.500070  \n",
      "min       0.000000     0.000000     0.000000     0.000000  \n",
      "25%       1.000000     0.000000     2.000000     0.000000  \n",
      "50%       1.000000     0.000000     2.000000     1.000000  \n",
      "75%       2.000000     1.000000     3.000000     1.000000  \n",
      "max       2.000000     4.000000     3.000000     1.000000  \n"
     ]
    }
   ],
   "source": [
    "import pandas as pd\n",
    "\n",
    "# Load the CSV file\n",
    "data = pd.read_csv('D:\\\\Study\\\\Parul University\\\\PUStudy\\\\4th sem\\\\#Data Science With Python\\\\#Internship\\\\Task\\\\5\\\\heart.csv')\n",
    "\n",
    "# Display the first few rows of the dataset\n",
    "print(data.head())\n",
    "print(data.info())\n",
    "print(data.describe())\n"
   ]
  },
  {
   "cell_type": "code",
   "execution_count": 7,
   "id": "44500678",
   "metadata": {},
   "outputs": [
    {
     "name": "stdout",
     "output_type": "stream",
     "text": [
      "   age  sex  cp  trestbps  chol  fbs  restecg  thalach  exang  oldpeak  slope  \\\n",
      "0   52    1   0       125   212    0        1      168      0      1.0      2   \n",
      "1   53    1   0       140   203    1        0      155      1      3.1      0   \n",
      "2   70    1   0       145   174    0        1      125      1      2.6      0   \n",
      "3   61    1   0       148   203    0        1      161      0      0.0      2   \n",
      "4   62    0   0       138   294    1        1      106      0      1.9      1   \n",
      "\n",
      "   ca  thal  target age_group chol_category  age_chol  thalach_age  \n",
      "0   2     3       0     50-60    borderline     11024         8736  \n",
      "1   0     3       0     50-60    borderline     10759         8215  \n",
      "2   0     3       0       60+        normal     12180         8750  \n",
      "3   1     3       0       60+    borderline     12383         9821  \n",
      "4   3     2       0       60+          high     18228         6572  \n"
     ]
    }
   ],
   "source": [
    "# Create age groups\n",
    "data['age_group'] = pd.cut(data['age'], bins=[0, 40, 50, 60, 100], labels=['<40', '40-50', '50-60', '60+'])\n",
    "\n",
    "# Create cholesterol level categories\n",
    "data['chol_category'] = pd.cut(data['chol'], bins=[0, 200, 239, 1000], labels=['normal', 'borderline', 'high'])\n",
    "\n",
    "# Create interaction terms\n",
    "data['age_chol'] = data['age'] * data['chol']\n",
    "data['thalach_age'] = data['thalach'] * data['age']\n",
    "\n",
    "# Display the first few rows of the dataset with the new features\n",
    "print(data.head())\n"
   ]
  },
  {
   "cell_type": "code",
   "execution_count": 8,
   "id": "60bbe3b4",
   "metadata": {},
   "outputs": [
    {
     "name": "stdout",
     "output_type": "stream",
     "text": [
      "(1025, 12)\n",
      "[0.20889427 0.16830688 0.08840103 0.0812662  0.06882297 0.06670356\n",
      " 0.0589318  0.05530184 0.05083943 0.0478213  0.0436604  0.03479448]\n",
      "12\n"
     ]
    }
   ],
   "source": [
    "from sklearn.preprocessing import StandardScaler\n",
    "from sklearn.decomposition import PCA\n",
    "\n",
    "# Selecting relevant features for PCA\n",
    "features = data.drop(columns=['target', 'age_group', 'chol_category'])\n",
    "# Encode categorical features\n",
    "features = pd.get_dummies(features, drop_first=True)\n",
    "\n",
    "# Standardize the features\n",
    "scaler = StandardScaler()\n",
    "features_scaled = scaler.fit_transform(features)\n",
    "\n",
    "# Apply PCA\n",
    "pca = PCA(n_components=0.95)  # retain 95% of the variance\n",
    "features_pca = pca.fit_transform(features_scaled)\n",
    "\n",
    "# Check the explained variance ratio to determine the number of components\n",
    "explained_variance = pca.explained_variance_ratio_\n",
    "n_components = pca.n_components_\n",
    "\n",
    "print(features_pca.shape)\n",
    "print(explained_variance)\n",
    "print(n_components)\n"
   ]
  },
  {
   "cell_type": "code",
   "execution_count": 9,
   "id": "2b444172",
   "metadata": {},
   "outputs": [
    {
     "name": "stdout",
     "output_type": "stream",
     "text": [
      "cp             0.120862\n",
      "ca             0.112540\n",
      "thal           0.110047\n",
      "oldpeak        0.090816\n",
      "thalach        0.089553\n",
      "age            0.071684\n",
      "thalach_age    0.071066\n",
      "age_chol       0.067411\n",
      "exang          0.060699\n",
      "chol           0.055705\n",
      "trestbps       0.051452\n",
      "slope          0.041440\n",
      "sex            0.033022\n",
      "restecg        0.016684\n",
      "fbs            0.007018\n",
      "dtype: float64\n"
     ]
    }
   ],
   "source": [
    "from sklearn.ensemble import RandomForestClassifier\n",
    "\n",
    "# Prepare the data for the Random Forest model\n",
    "X = pd.get_dummies(data.drop(columns=['target', 'age_group', 'chol_category']), drop_first=True)\n",
    "y = data['target']\n",
    "\n",
    "# Train a Random Forest classifier\n",
    "rf_model = RandomForestClassifier(n_estimators=100, random_state=42)\n",
    "rf_model.fit(X, y)\n",
    "\n",
    "# Get feature importances\n",
    "feature_importances = rf_model.feature_importances_\n",
    "important_features = pd.Series(feature_importances, index=X.columns).sort_values(ascending=False)\n",
    "\n",
    "# Display the most important features\n",
    "print(important_features.head(15))\n"
   ]
  },
  {
   "cell_type": "code",
   "execution_count": 10,
   "id": "1be3e1c1",
   "metadata": {},
   "outputs": [
    {
     "name": "stdout",
     "output_type": "stream",
     "text": [
      "Cross-validated scores: [1.         1.         1.         1.         0.98536585]\n",
      "Mean score: 0.9970731707317073\n"
     ]
    }
   ],
   "source": [
    "# Select the top 15 important features\n",
    "top_features = important_features.head(15).index\n",
    "X_top = X[top_features]\n",
    "\n",
    "# Train a new Random Forest model using only the top features\n",
    "rf_model_top = RandomForestClassifier(n_estimators=100, random_state=42)\n",
    "rf_model_top.fit(X_top, y)\n",
    "\n",
    "# Evaluate the new model\n",
    "from sklearn.model_selection import cross_val_score\n",
    "scores = cross_val_score(rf_model_top, X_top, y, cv=5)\n",
    "print(f'Cross-validated scores: {scores}')\n",
    "print(f'Mean score: {scores.mean()}')\n"
   ]
  }
 ],
 "metadata": {
  "kernelspec": {
   "display_name": "Python 3 (ipykernel)",
   "language": "python",
   "name": "python3"
  },
  "language_info": {
   "codemirror_mode": {
    "name": "ipython",
    "version": 3
   },
   "file_extension": ".py",
   "mimetype": "text/x-python",
   "name": "python",
   "nbconvert_exporter": "python",
   "pygments_lexer": "ipython3",
   "version": "3.12.2"
  }
 },
 "nbformat": 4,
 "nbformat_minor": 5
}
